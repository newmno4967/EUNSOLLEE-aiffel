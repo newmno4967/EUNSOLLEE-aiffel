{
  "nbformat": 4,
  "nbformat_minor": 0,
  "metadata": {
    "colab": {
      "provenance": [],
      "include_colab_link": true
    },
    "kernelspec": {
      "name": "python3",
      "display_name": "Python 3"
    },
    "language_info": {
      "name": "python"
    }
  },
  "cells": [
    {
      "cell_type": "markdown",
      "metadata": {
        "id": "view-in-github",
        "colab_type": "text"
      },
      "source": [
        "<a href=\"https://colab.research.google.com/github/EUNSOLLEE-aiffel/AIFFEL_quest_cr/blob/master/24_12_05_Sub_QUEST_C_02.ipynb\" target=\"_parent\"><img src=\"https://colab.research.google.com/assets/colab-badge.svg\" alt=\"Open In Colab\"/></a>"
      ]
    },
    {
      "cell_type": "code",
      "source": [
        "def sol():\n",
        "    # 파일 경로설정 후 파일 열기\n",
        "    file_path = \"/content/drive/MyDrive/20.아이펠/Avengers.txt\"\n",
        "    with open(file_path, \"r\") as file:\n",
        "        text = file.read()\n",
        "\n",
        "    # 텍스트 전처리\n",
        "    import re                              # 정규표현식을 위한 모듈 임포트\n",
        "    text = text.replace(\"\\n\", \" \")         # 줄바꿈을 공백으로 바꿈\n",
        "    text = re.sub(r'[^\\w\\s]', ' ', text)   # 특수문자를 공백으로 바꿈\n",
        "    text = \" \".join(text.split()).lower()  # 여러개의 공백을 하나의 공백으로 바꿔주고 소문자로 바꿔줌\n",
        "\n",
        "    # 단어별 갯수 count\n",
        "    text_count = {}                 # 빈 딕셔너리를 선언\n",
        "    for count in text.split():      # 딕셔너리에 단어의 빈도수를 체크하기 위한 반복문 선언\n",
        "        if count in text_count:     # 딕셔너리에 특정 단어가 있는경우\n",
        "            text_count[count] += 1  # 단어의 값에 1을 더해줌\n",
        "        else:                       # 단어가 없을 경우\n",
        "            text_count[count] = 1   # 그 단어를 딕셔너리에 추가하면서 값에 1을 넣어줌\n",
        "\n",
        "    # 딕셔너리 sorting\n",
        "    sorted_text_count = dict(sorted(text_count.items()))                                                   # 먼저 key값을 기준으로 정렬(abc순으로)\n",
        "    sorted_text_count = dict(sorted(sorted_text_count.items(), key=lambda item: item[1], reverse = True))  # 값을 기준으로 정렬(내림차순)\n",
        "    num_text = {key: i for i, key in enumerate(sorted_text_count.keys())}                                  # 각 값에 대한 인덱스 번호를 매겨줌\n",
        "\n",
        "    # 단어 검색\n",
        "    user = input(\"검색할 단어를 입력해주세요: \")         # 유저가 검색할 단어를 입력받음\n",
        "    if user in num_text:                          # 만약에 유저가 입력한 단어가 딕셔너리에 있다면\n",
        "        return num_text[user]                     # 유저가 입력한 단어의 자리를 리턴해줌\n",
        "    else:                                         # 만약 유저가 입력한 단어가 딕셔너리에 없다면\n",
        "        return '검색한 단어가 없습니다!'                # 검색한 단어가 없다고 리턴해줌"
      ],
      "metadata": {
        "id": "Lt7aQdnyoUgC"
      },
      "execution_count": null,
      "outputs": []
    },
    {
      "cell_type": "code",
      "source": [
        "# 함수가 정상적으로 작동하는지 테스트\n",
        "sol()"
      ],
      "metadata": {
        "id": "nj71pTpPzfX-",
        "colab": {
          "base_uri": "https://localhost:8080/",
          "height": 54
        },
        "outputId": "a1ff07c2-edd0-420f-c3fe-fa4671d8e047"
      },
      "execution_count": null,
      "outputs": [
        {
          "name": "stdout",
          "output_type": "stream",
          "text": [
            "검색할 단어를 입력해주세요: asd\n"
          ]
        },
        {
          "output_type": "execute_result",
          "data": {
            "text/plain": [
              "'검색한 단어가 없습니다!'"
            ],
            "application/vnd.google.colaboratory.intrinsic+json": {
              "type": "string"
            }
          },
          "metadata": {},
          "execution_count": 77
        }
      ]
    },
    {
      "cell_type": "markdown",
      "source": [
        "## 회고\n",
        "\n",
        "### 송명근\n",
        "- 공부했던 범위 밖에서 퀘스트가 진행되어서 생각보다 당황했다.\n",
        "- 새로운 함수나 기능들을 호출해서 사용하다보니 공부가 잘 되었다.\n",
        "\n",
        "### 이은솔\n",
        "- 딕셔너리를 sotring하는 절차부터 어려움에 봉착했습니다.\n",
        "- 오늘 노드에서 학습할 람다를 꼼꼼히 학습해야겠다고 생각했습니다."
      ],
      "metadata": {
        "id": "v-7TzLtA9CFi"
      }
    },
    {
      "cell_type": "code",
      "source": [],
      "metadata": {
        "id": "tNL2-zDlS-DN"
      },
      "execution_count": null,
      "outputs": []
    }
  ]
}