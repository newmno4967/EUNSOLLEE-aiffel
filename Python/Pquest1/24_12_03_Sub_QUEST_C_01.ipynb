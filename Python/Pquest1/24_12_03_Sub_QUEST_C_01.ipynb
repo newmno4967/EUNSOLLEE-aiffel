{
  "nbformat": 4,
  "nbformat_minor": 0,
  "metadata": {
    "colab": {
      "provenance": [],
      "include_colab_link": true
    },
    "kernelspec": {
      "name": "python3",
      "display_name": "Python 3"
    },
    "language_info": {
      "name": "python"
    }
  },
  "cells": [
    {
      "cell_type": "markdown",
      "metadata": {
        "id": "view-in-github",
        "colab_type": "text"
      },
      "source": [
        "<a href=\"https://colab.research.google.com/github/EUNSOLLEE-aiffel/AIFFEL_quest_cr/blob/master/24_12_03_Sub_QUEST_C_01.ipynb\" target=\"_parent\"><img src=\"https://colab.research.google.com/assets/colab-badge.svg\" alt=\"Open In Colab\"/></a>"
      ]
    },
    {
      "cell_type": "code",
      "execution_count": null,
      "metadata": {
        "id": "ZJmr9d8RESJI"
      },
      "outputs": [],
      "source": [
        "def palindrome(word):\n",
        "    return word == word[::-1] #뒤집었을때 true인지 false인지 반환\n",
        "\n",
        "\n",
        "text = input(\"단어를 입력하세요 : \") #단어 입력받기\n",
        "\n",
        "if palindrome(text):\n",
        "  print(\"회문입니다.\")\n",
        "\n",
        "else:\n",
        "  print(\"회문이 아닙니다.\")\n",
        "\n",
        "\n"
      ]
    },
    {
      "cell_type": "markdown",
      "source": [
        "# **회고**\n",
        "\n",
        "### 강민성 :\n",
        "- 단어를 뒤집는 방법을 몰라서 검색을 통해 해결했습니다.\n",
        "- 문자열의 공백을 지우거나 대소문자 차이를 무시시켜서 긴 문장도 회문인지 아닌지 판별할 수 있게 만들고 싶었는데, 아직 그 정도에는 못 미치는 것 같아요.\n",
        "\n",
        "\n",
        "### 이은솔 :\n",
        "- 스스로 아직 함수에 대한 이해가 부족하다고 느꼈습니다.\n",
        "- 제가 생각했던 명령어보다 다른 그루님의 명령어가 더 간결하고 이해하기 쉬웠습니다.\n",
        "\n"
      ],
      "metadata": {
        "id": "_eVd-i3ab90m"
      }
    }
  ]
}