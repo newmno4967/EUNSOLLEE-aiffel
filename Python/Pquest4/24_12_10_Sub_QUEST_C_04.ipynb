{
  "nbformat": 4,
  "nbformat_minor": 0,
  "metadata": {
    "colab": {
      "provenance": [],
      "include_colab_link": true
    },
    "kernelspec": {
      "name": "python3",
      "display_name": "Python 3"
    },
    "language_info": {
      "name": "python"
    }
  },
  "cells": [
    {
      "cell_type": "markdown",
      "metadata": {
        "id": "view-in-github",
        "colab_type": "text"
      },
      "source": [
        "<a href=\"https://colab.research.google.com/github/EUNSOLLEE-aiffel/AIFFEL_quest_cr/blob/master/24_12_10_Sub_QUEST_C_04.ipynb\" target=\"_parent\"><img src=\"https://colab.research.google.com/assets/colab-badge.svg\" alt=\"Open In Colab\"/></a>"
      ]
    },
    {
      "cell_type": "code",
      "execution_count": null,
      "metadata": {
        "id": "qLW0gw7lEosD",
        "outputId": "9d9d82c7-f521-4f01-ed87-7efcf175e9ef",
        "colab": {
          "base_uri": "https://localhost:8080/"
        }
      },
      "outputs": [
        {
          "output_type": "stream",
          "name": "stdout",
          "text": [
            "Mounted at /content/drive\n"
          ]
        }
      ],
      "source": [
        "from google.colab import drive\n",
        "drive.mount('/content/drive')"
      ]
    },
    {
      "cell_type": "code",
      "source": [
        "\n",
        "import math\n",
        "\n",
        "def calculator():\n",
        "    while True:\n",
        "        try:\n",
        "            # 사용자로부터 첫 번째 정수 입력받기\n",
        "            num1 = int(input(\"첫 번째 정수를 입력하세요: \"))\n",
        "\n",
        "            # 사용자로부터 두 번째 정수 입력받기\n",
        "            num2 = int(input(\"두 번째 정수를 입력하세요: \"))\n",
        "\n",
        "            # 사용자로부터 연산자 입력받기\n",
        "            operator = input(\"연산자(+,-,*,/,**)를 입력하세요: \")\n",
        "\n",
        "            # 연산 수행\n",
        "            if operator == '+':\n",
        "                result = num1 + num2\n",
        "            elif operator == '-':\n",
        "                result = num1 - num2\n",
        "            elif operator == '*':\n",
        "                result = num1 * num2\n",
        "            elif operator == '/':\n",
        "                if num2 == 0:\n",
        "                  raise ZeroDivisionError(\"0으로 나눌 수 없습니다.\") # 두 번째 정수가 0이면 ZeroDivisionError 발생\n",
        "                result = num1 / num2\n",
        "            elif operator == '**':\n",
        "                result = math.pow(num1, num2)\n",
        "            else:\n",
        "                raise ValueError(\"지원하지 않는 연산자입니다.\") # 지정된 연산자 외 입력이 들어오면 ValueError 발생\n",
        "\n",
        "            # 결과 출력\n",
        "            print(f\"결과: {result}\")\n",
        "\n",
        "            # 계속할지 여부 확인\n",
        "            cont = input(\"계속 계산하시겠습니까? (y/n): \").strip().lower() # 입력을 공백 없이 소문자로 통일\n",
        "            if cont != 'y':\n",
        "                print(\"계산기를 종료합니다.\")\n",
        "                break\n",
        "\n",
        "        except ValueError: # 정수가 아닌 값(or 문자열)를 입력했을 때 ValueError 발생\n",
        "            print(\"입력 오류: 잘못된 입력입니다. 정수를 입력해주세요.\")\n",
        "        except ZeroDivisionError:\n",
        "            print(\"수학 오류: 0으로 나눌 수 없습니다.\")  # ZeroDivisionError(나눗셈 오류) 메시지 출력\n",
        "            continue  # ZeroDivisionError에도 불구하고 루프 반복\n",
        "\n",
        "# 계산기 실행\n",
        "calculator()"
      ],
      "metadata": {
        "id": "VXOwYFD3Sik7",
        "colab": {
          "base_uri": "https://localhost:8080/"
        },
        "outputId": "0c2eabb6-4ce6-4dd8-ee34-061dc463db82"
      },
      "execution_count": null,
      "outputs": [
        {
          "output_type": "stream",
          "name": "stdout",
          "text": [
            "첫 번째 정수를 입력하세요: 5\n",
            "두 번째 정수를 입력하세요: 4\n",
            "연산자(+,-,*,/,**)를 입력하세요: +\n",
            "결과: 9\n",
            "계속 계산하시겠습니까? (y/n): y\n",
            "첫 번째 정수를 입력하세요: 4\n",
            "두 번째 정수를 입력하세요: 2\n",
            "연산자(+,-,*,/,**)를 입력하세요: **\n",
            "결과: 16.0\n",
            "계속 계산하시겠습니까? (y/n): y\n",
            "첫 번째 정수를 입력하세요: 4\n",
            "두 번째 정수를 입력하세요: 0\n",
            "연산자(+,-,*,/,**)를 입력하세요: /\n",
            "수학 오류: 0으로 나눌 수 없습니다.\n"
          ]
        }
      ]
    },
    {
      "cell_type": "markdown",
      "source": [
        "[ 회고_이은솔 ]\n",
        "\n",
        "- 예외를 인위적으로 발생(raise)시키면 무한루프가 stop된다는 점을 알았습니다. continue를 통해 문제를 해결할 수 있었습니다.\n",
        "- 아직 raise ValueError 발생시(지정한 연산자 외 다른 연산자 입력시) \"지원하지 않는 연산자입니다.\" 라는 문구가 출력되는 방법을 찾지 못하였습니다. 추가 학습할 예정입니다."
      ],
      "metadata": {
        "id": "XBzZ1PiGk_Lc"
      }
    }
  ]
}