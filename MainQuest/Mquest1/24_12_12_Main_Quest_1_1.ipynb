{
  "nbformat": 4,
  "nbformat_minor": 0,
  "metadata": {
    "colab": {
      "provenance": [],
      "authorship_tag": "ABX9TyPQt3KGGBwCxQty+ESD1kEI",
      "include_colab_link": true
    },
    "kernelspec": {
      "name": "python3",
      "display_name": "Python 3"
    },
    "language_info": {
      "name": "python"
    }
  },
  "cells": [
    {
      "cell_type": "markdown",
      "metadata": {
        "id": "view-in-github",
        "colab_type": "text"
      },
      "source": [
        "<a href=\"https://colab.research.google.com/github/EUNSOLLEE-aiffel/first-repository/blob/master/24_12_12_Main_Quest_1_1.ipynb\" target=\"_parent\"><img src=\"https://colab.research.google.com/assets/colab-badge.svg\" alt=\"Open In Colab\"/></a>"
      ]
    },
    {
      "cell_type": "code",
      "execution_count": 10,
      "metadata": {
        "id": "8VzqBLtvX04S"
      },
      "outputs": [],
      "source": [
        "import random\n",
        "\n",
        "# Q1. Account 클래스 생성\n",
        "class Account:\n",
        "    # class variable\n",
        "    account_count = 0\n",
        "\n",
        "    def __init__(self, name, balance):\n",
        "        self.deposit_count = 0\n",
        "        self.deposit_log = []\n",
        "        self.withdraw_log = []\n",
        "\n",
        "        self.name = name\n",
        "        self.balance = balance\n",
        "        self.bank = \"SC은행\"\n",
        "\n",
        "        num1 = random.randint(0, 999)\n",
        "        num2 = random.randint(0, 99)\n",
        "        num3 = random.randint(0, 999999)\n",
        "\n",
        "        num1 = str(num1).zfill(3)\n",
        "        num2 = str(num2).zfill(2)\n",
        "        num3 = str(num3).zfill(6)\n",
        "        self.account_number = num1 + '-' + num2 + '-' + num3\n",
        "\n",
        "# Q2. 클래스 변수\n",
        "        Account.account_count += 1\n",
        "\n",
        "# Q3. 클래스 변수 출력\n",
        "    @classmethod\n",
        "    def get_account_num(cls):\n",
        "        print(\"생성된 계좌의 총 개수 : \",cls.account_count, \"개\")\n",
        "\n",
        "# Q4. 입금 메서드\n",
        "    def deposit(self, amount):\n",
        "        while amount < 1:     # 입금 금액이 1원 미만일 경우 다시 입력 받기\n",
        "            print(\"입금은 최소 1원 이상 가능합니다.\")\n",
        "            amount = int(input(\"입금할 금액을 입력하세요: \"))\n",
        "        self.deposit_log.append((amount, self.balance))\n",
        "        self.balance += amount\n",
        "        print(f\"{amount}원이 입금되었습니다. 현재 잔액: {self.balance:,.0f}원\")\n",
        "\n",
        "# Q7. 이자 지급하기\n",
        "        self.deposit_count += 1\n",
        "        if self.deposit_count % 5 == 0:\n",
        "            interest = self.balance * (1/100)\n",
        "            self.balance += interest\n",
        "            print(f\"이자 {interest:,.0f}원이 지급되었습니다. 현재 잔액: {self.balance:.0f}원\")\n",
        "            self.deposit_count = 0\n",
        "\n",
        "# Q5. 출금 메서드\n",
        "    def withdraw(self, amount):\n",
        "        while amount > self.balance:     # 잔고보다 출금 금액이 클 경우 다시 입력 받기\n",
        "            print(\"계좌 잔고 이상으로 출금할 수 없습니다.\")\n",
        "            amount = int(input(\"출금할 금액을 입력하세요: \"))\n",
        "        self.withdraw_log.append((amount, self.balance))\n",
        "        self.balance -= amount\n",
        "        print(f\"{amount}원이 출금되었습니다. 현재 잔액: {self.balance:,.0f}원\")\n",
        "\n",
        "# Q6. 정보 출력 메서드\n",
        "    def display_info(self):\n",
        "        formatted_balance = f\"{self.balance:,.0f}\"\n",
        "        print(\"은행이름: \", self.bank,\",\", \"예금주: \", self.name,\",\", \"계좌번호: \", self.account_number,\",\", \"잔고: \", formatted_balance,\"원\")\n",
        "\n",
        "# Q10. 입금 내역 기록\n",
        "    def deposit_history(self):\n",
        "        print(\"[ 입금 내역 ]\")\n",
        "        print()\n",
        "        for index, (amount, balance) in enumerate(self.deposit_log, start=1):\n",
        "            print(f\"회차: {index}회, 입금: {amount}원, 잔액: {balance:,.0f}원\")\n",
        "\n",
        "# Q10. 출금 내역 기록\n",
        "    def withdraw_history(self):\n",
        "        print(\"[ 출금 내역 ]\")\n",
        "        print()\n",
        "        for index, (amount, balance) in enumerate(self.withdraw_log, start=1):\n",
        "            print(f\"회차: {index}회, 출금: {amount}원, 잔액: {balance:,.0f}원\")\n"
      ]
    },
    {
      "cell_type": "code",
      "source": [
        "# Q2. 클래스 변수: 클래스 변수를 사용해서 Account 클래스로부터 생성된 계좌 객체의 개수를 저장하세요.\n",
        "\n",
        "first_account = Account(\"차정은\",1000)\n",
        "second_account = Account(\"박광석\",30000000)\n",
        "third_account = Account(\"조웅제\",50000000)\n",
        "\n",
        "print(Account.account_count)"
      ],
      "metadata": {
        "colab": {
          "base_uri": "https://localhost:8080/"
        },
        "id": "ZJZeWQSPVj4T",
        "outputId": "124763d5-b747-43f1-954c-40afb458abf3"
      },
      "execution_count": 11,
      "outputs": [
        {
          "output_type": "stream",
          "name": "stdout",
          "text": [
            "3\n"
          ]
        }
      ]
    },
    {
      "cell_type": "code",
      "source": [
        "# Q3. 클래스 변수 출력 : Account 클래스로부터 생성된 계좌의 개수를 출력하는 get_account_num() 메서드를 추가하세요\n",
        "\n",
        "first_account.get_account_num()"
      ],
      "metadata": {
        "colab": {
          "base_uri": "https://localhost:8080/"
        },
        "id": "3uG3oTBMVxnx",
        "outputId": "91863b78-234f-48a2-d1f6-e5d0454ca410"
      },
      "execution_count": 12,
      "outputs": [
        {
          "output_type": "stream",
          "name": "stdout",
          "text": [
            "생성된 계좌의 총 개수 :  3 개\n"
          ]
        }
      ]
    },
    {
      "cell_type": "code",
      "source": [
        "# Q4. 입금 메서드 : Account 클래스에 입금을 위한 deposit 메서드를 추가하세요. 입금은 최소 1원 이상만 가능합니다.\n",
        "# Q5. 출금 메서드 : Account 클래스에 출금을 위한 withdraw 메서드를 추가하세요. 출금은 계좌의 잔고 이상으로 출금할 수는 없습니다.\n",
        "\n",
        "first_account = Account(\"차정은\",5000)\n",
        "first_account.deposit(2000)\n",
        "first_account.withdraw(3000)"
      ],
      "metadata": {
        "colab": {
          "base_uri": "https://localhost:8080/"
        },
        "id": "qBL4ZvD9WYtZ",
        "outputId": "913ac788-4ea6-427b-97d5-e3e6f5f3047b"
      },
      "execution_count": 13,
      "outputs": [
        {
          "output_type": "stream",
          "name": "stdout",
          "text": [
            "2000원이 입금되었습니다. 현재 잔액: 7,000원\n",
            "3000원이 출금되었습니다. 현재 잔액: 4,000원\n"
          ]
        }
      ]
    },
    {
      "cell_type": "code",
      "source": [
        "# Q6. 정보 출력 메서드 : Account 인스턴스에 저장된 정보를 출력하는 display_info() 메서드를 추가하세요. 잔고는 세자리마다 쉼표를 출력하세요.\n",
        "# (은행이름: SC은행, 예금주: 파이썬, 계좌번호: 111-11-111111, 잔고: 10,000원)\n",
        "\n",
        "first_account.display_info()"
      ],
      "metadata": {
        "colab": {
          "base_uri": "https://localhost:8080/"
        },
        "id": "Yggs4sqDWYeg",
        "outputId": "3d579e46-6878-451a-f01f-0b67dd30ecde"
      },
      "execution_count": 14,
      "outputs": [
        {
          "output_type": "stream",
          "name": "stdout",
          "text": [
            "은행이름:  SC은행 , 예금주:  차정은 , 계좌번호:  094-12-568974 , 잔고:  4,000 원\n"
          ]
        }
      ]
    },
    {
      "cell_type": "code",
      "source": [
        "20# Q7. 이자 지급하기 : 입금 횟수가 5회가 될 때 잔고를 기준으로 1%의 이자가 잔고에 추가되도록 코드를 변경해보세요.\n",
        "\n",
        "for i in range(10):\n",
        "    first_account.deposit(1000)\n",
        "first_account.deposit(-1000)\n",
        "first_account.withdraw(3000000)\n",
        "first_account.display_info()"
      ],
      "metadata": {
        "colab": {
          "base_uri": "https://localhost:8080/"
        },
        "id": "JfscxI_AWYUy",
        "outputId": "45af77da-5bc5-4309-dd2e-a395ad89dc62"
      },
      "execution_count": 15,
      "outputs": [
        {
          "output_type": "stream",
          "name": "stdout",
          "text": [
            "1000원이 입금되었습니다. 현재 잔액: 5,000원\n",
            "1000원이 입금되었습니다. 현재 잔액: 6,000원\n",
            "1000원이 입금되었습니다. 현재 잔액: 7,000원\n",
            "1000원이 입금되었습니다. 현재 잔액: 8,000원\n",
            "이자 80원이 지급되었습니다. 현재 잔액: 8080원\n",
            "1000원이 입금되었습니다. 현재 잔액: 9,080원\n",
            "1000원이 입금되었습니다. 현재 잔액: 10,080원\n",
            "1000원이 입금되었습니다. 현재 잔액: 11,080원\n",
            "1000원이 입금되었습니다. 현재 잔액: 12,080원\n",
            "1000원이 입금되었습니다. 현재 잔액: 13,080원\n",
            "이자 131원이 지급되었습니다. 현재 잔액: 13211원\n",
            "1000원이 입금되었습니다. 현재 잔액: 14,211원\n",
            "입금은 최소 1원 이상 가능합니다.\n",
            "입금할 금액을 입력하세요: 100000\n",
            "100000원이 입금되었습니다. 현재 잔액: 114,211원\n",
            "계좌 잔고 이상으로 출금할 수 없습니다.\n",
            "출금할 금액을 입력하세요: 20000\n",
            "20000원이 출금되었습니다. 현재 잔액: 94,211원\n",
            "은행이름:  SC은행 , 예금주:  차정은 , 계좌번호:  094-12-568974 , 잔고:  94,211 원\n"
          ]
        }
      ]
    },
    {
      "cell_type": "code",
      "source": [
        "# Q8. 여러 객체 생성 : Account 클래스로부터 3개 이상 인스턴스를 생성하고 생성된 인스턴스를 리스트에 저장해보세요.\n",
        "\n",
        "data = []     # Q8. 여러 객체 생성\n",
        "\n",
        "k = Account(\"KIM\", 10000000)\n",
        "l = Account(\"LEE\", 10000)\n",
        "p = Account(\"PARK\", 10000)\n",
        "\n",
        "data.append(k)\n",
        "data.append(l)\n",
        "data.append(p)\n",
        "\n",
        "print(data)"
      ],
      "metadata": {
        "colab": {
          "base_uri": "https://localhost:8080/"
        },
        "id": "ojHu1qSIWYMb",
        "outputId": "8d615861-acb7-43d1-9dc9-214e8273688f"
      },
      "execution_count": 16,
      "outputs": [
        {
          "output_type": "stream",
          "name": "stdout",
          "text": [
            "[<__main__.Account object at 0x7e00b410b4c0>, <__main__.Account object at 0x7e00b4109cc0>, <__main__.Account object at 0x7e00b410b700>]\n"
          ]
        }
      ]
    },
    {
      "cell_type": "code",
      "source": [
        "# Q9. 객체 순회 반복문을 통해 리스트에 있는 객체를 순회하면서 잔고가 100만원 이상인 고객의 정보만 출력하세요.\n",
        "\n",
        "for c in data:     # Q9. 객체 순회 반복문, 잔고가 100만원 이상인 고객 정보만 출력\n",
        "    if c.balance >= 1000000:\n",
        "        c.display_info()"
      ],
      "metadata": {
        "colab": {
          "base_uri": "https://localhost:8080/"
        },
        "id": "5vsF8oufWYC4",
        "outputId": "f46d4fbd-7361-4297-c769-6a0aaed59035"
      },
      "execution_count": 17,
      "outputs": [
        {
          "output_type": "stream",
          "name": "stdout",
          "text": [
            "은행이름:  SC은행 , 예금주:  KIM , 계좌번호:  988-04-958675 , 잔고:  10,000,000 원\n"
          ]
        }
      ]
    },
    {
      "cell_type": "code",
      "source": [
        "# Q10. 입금과 출금 내역이 기록되도록 코드를 업데이트 하세요.\n",
        "# (입금 내역과 출금 내역을 출력하는 deposit_history와 withdraw_history 메서드를 추가하세요.)\n",
        "\n",
        "first_account.deposit_history()\n",
        "print('-'*50)\n",
        "first_account.withdraw_history()"
      ],
      "metadata": {
        "colab": {
          "base_uri": "https://localhost:8080/"
        },
        "id": "4MXc__ISWX4y",
        "outputId": "6efc2f3c-dd64-4724-9c96-1e22e259fcca"
      },
      "execution_count": 18,
      "outputs": [
        {
          "output_type": "stream",
          "name": "stdout",
          "text": [
            "[ 입금 내역 ]\n",
            "\n",
            "회차: 1회, 입금: 2000원, 잔액: 5,000원\n",
            "회차: 2회, 입금: 1000원, 잔액: 4,000원\n",
            "회차: 3회, 입금: 1000원, 잔액: 5,000원\n",
            "회차: 4회, 입금: 1000원, 잔액: 6,000원\n",
            "회차: 5회, 입금: 1000원, 잔액: 7,000원\n",
            "회차: 6회, 입금: 1000원, 잔액: 8,080원\n",
            "회차: 7회, 입금: 1000원, 잔액: 9,080원\n",
            "회차: 8회, 입금: 1000원, 잔액: 10,080원\n",
            "회차: 9회, 입금: 1000원, 잔액: 11,080원\n",
            "회차: 10회, 입금: 1000원, 잔액: 12,080원\n",
            "회차: 11회, 입금: 1000원, 잔액: 13,211원\n",
            "회차: 12회, 입금: 100000원, 잔액: 14,211원\n",
            "--------------------------------------------------\n",
            "[ 출금 내역 ]\n",
            "\n",
            "회차: 1회, 출금: 3000원, 잔액: 7,000원\n",
            "회차: 2회, 출금: 20000원, 잔액: 114,211원\n"
          ]
        }
      ]
    }
  ]
}
