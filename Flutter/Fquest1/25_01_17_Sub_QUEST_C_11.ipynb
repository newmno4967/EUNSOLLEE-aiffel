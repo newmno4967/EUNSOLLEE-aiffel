{
  "nbformat": 4,
  "nbformat_minor": 0,
  "metadata": {
    "colab": {
      "provenance": [],
      "authorship_tag": "ABX9TyMkzva/6KHLXvY5ie1l8foU",
      "include_colab_link": true
    },
    "kernelspec": {
      "name": "python3",
      "display_name": "Python 3"
    },
    "language_info": {
      "name": "python"
    }
  },
  "cells": [
    {
      "cell_type": "markdown",
      "metadata": {
        "id": "view-in-github",
        "colab_type": "text"
      },
      "source": [
        "<a href=\"https://colab.research.google.com/github/EUNSOLLEE-aiffel/AIFFEL_quest_cr/blob/master/25_01_17_Sub_QUEST_C_11.ipynb\" target=\"_parent\"><img src=\"https://colab.research.google.com/assets/colab-badge.svg\" alt=\"Open In Colab\"/></a>"
      ]
    },
    {
      "cell_type": "code",
      "execution_count": null,
      "metadata": {
        "id": "vQHajsCqz0rX"
      },
      "outputs": [],
      "source": [
        "import 'dart:async';\n",
        "\n",
        "class PomodoroTimer {\n",
        "  final int workDuration = 25 ; // 25초 작업 (초 단위)\n",
        "  final int shortBreakDuration = 5 ; // 5초 휴식\n",
        "  final int longBreakDuration = 15 ; // 15초 휴식\n",
        "  int currentRound = 1; // 현재 회차\n",
        "  Timer? timer;\n",
        "  int remainingTime = 0; // 남은 시간 (초 단위)\n",
        "  bool isWorking = true; // 작업 상태 플래그\n",
        "\n",
        "  void start() {\n",
        "    print('Pomodoro Timer 시작');\n",
        "    _startRound();\n",
        "  }\n",
        "\n",
        "  void _startRound() {\n",
        "    if (currentRound > 4) {\n",
        "      print('Pomodoro Timer 완료!');\n",
        "      return;\n",
        "    }\n",
        "\n",
        "    if (isWorking) {\n",
        "      remainingTime = workDuration;\n",
        "      print('작업 시작: 회차 $currentRound (25초)');\n",
        "    } else {\n",
        "      if (currentRound < 4) {\n",
        "        remainingTime = shortBreakDuration;\n",
        "        print('휴식 시작: 회차 $currentRound (5초)');\n",
        "      } else {\n",
        "        remainingTime = longBreakDuration;\n",
        "        print('휴식 시작: 회차 $currentRound (15초)');\n",
        "      }\n",
        "    }\n",
        "\n",
        "    timer = Timer.periodic(Duration(seconds: 1), (timer) {\n",
        "      remainingTime--;\n",
        "\n",
        "      if (remainingTime <= 0) {\n",
        "        timer.cancel();\n",
        "        _nextPhase();\n",
        "      }\n",
        "\n",
        "      _printRemainingTime();\n",
        "    });\n",
        "  }\n",
        "\n",
        "  void _nextPhase() {\n",
        "    if (isWorking) {\n",
        "      isWorking = false;\n",
        "    } else {\n",
        "      isWorking = true;\n",
        "      currentRound++;\n",
        "    }\n",
        "\n",
        "    _startRound();\n",
        "  }\n",
        "\n",
        "  void _printRemainingTime() {\n",
        "    final minutes = remainingTime ~/ 60;\n",
        "    final seconds = remainingTime % 60;\n",
        "    print('남은 시간: ${minutes.toString().padLeft(2, '0')}:${seconds.toString().padLeft(2, '0')}');\n",
        "  }\n",
        "\n",
        "  void stop() {\n",
        "    timer?.cancel();\n",
        "    print('Pomodoro Timer 중단');\n",
        "  }\n",
        "}\n",
        "\n",
        "void main() {\n",
        "  final pomodoroTimer = PomodoroTimer();\n",
        "  pomodoroTimer.start();\n",
        "}"
      ]
    }
  ]
}